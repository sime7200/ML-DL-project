{
 "cells": [
  {
   "cell_type": "markdown",
   "id": "825148f9",
   "metadata": {},
   "source": [
    "# Classification problem"
   ]
  },
  {
   "cell_type": "code",
   "execution_count": null,
   "id": "5b308273",
   "metadata": {},
   "outputs": [],
   "source": [
    "#%pip install ucimlrepo"
   ]
  },
  {
   "cell_type": "markdown",
   "id": "183b09c3",
   "metadata": {},
   "source": [
    "## Implementazione k-NN from scratch"
   ]
  },
  {
   "cell_type": "code",
   "execution_count": 2,
   "id": "319c8570",
   "metadata": {},
   "outputs": [],
   "source": [
    "import numpy as np\n",
    "from collections import Counter\n",
    "import pandas as pd\n",
    "from sklearn.model_selection import train_test_split\n",
    "from sklearn.preprocessing import StandardScaler\n",
    "from sklearn.neighbors import KNeighborsClassifier\n",
    "from sklearn.metrics import accuracy_score, classification_report, confusion_matrix\n",
    "\n",
    "class KNN:\n",
    "    def __init__(self, k):\n",
    "        self.k = k\n",
    "\n",
    "    def fit(self, X_train, y_train):\n",
    "        self.X_train = X_train\n",
    "        self.y_train = y_train\n",
    "\n",
    "    def predict(self, X_test):\n",
    "        predictions = [] # Predictions list \n",
    "        # predictions for each point in X_test \n",
    "        for test_point in X_test:\n",
    "            distances = []\n",
    "            for i, train_point in enumerate(self.X_train): \n",
    "                distance = np.sum(np.abs(test_point - train_point)) # manhattan distance\n",
    "                distances.append((distance, self.y_train[i]))\n",
    "            distances.sort() \n",
    "            # first k neighbors\n",
    "            k_nearest = distances[:self.k] # shape = [(distance, class), ...] as many times as k \n",
    "            # classes of the k neighbors\n",
    "            k_nearest_classes = [x[1] for x in k_nearest]\n",
    "            # now i take the most common class among the k\n",
    "            most_common = Counter(k_nearest_classes).most_common(1)\n",
    "            predictions.append(most_common[0][0])\n",
    "        return predictions"
   ]
  },
  {
   "cell_type": "markdown",
   "id": "08d72448",
   "metadata": {},
   "source": [
    "## Dataset handling and cleaning process"
   ]
  },
  {
   "cell_type": "code",
   "execution_count": 3,
   "id": "6d103461",
   "metadata": {},
   "outputs": [
    {
     "data": {
      "text/plain": [
       "((80, 19), (80,))"
      ]
     },
     "execution_count": 3,
     "metadata": {},
     "output_type": "execute_result"
    }
   ],
   "source": [
    "from ucimlrepo import fetch_ucirepo\n",
    "from sklearn.preprocessing import LabelEncoder\n",
    "import pandas as pd\n",
    "import numpy as np\n",
    "\n",
    "# fetch hepatitis dataset\n",
    "hepatitis = fetch_ucirepo(id=46)\n",
    "features = hepatitis.data.features\n",
    "targets = hepatitis.data.targets\n",
    "\n",
    "df = pd.concat([features, targets], axis=1) # I join X and y in a single DataFrame\n",
    "df = df.dropna().drop_duplicates() # remove rows with NaN or duplicates\n",
    "#df.to_csv(\"hepatitis.csv\", index=False)\n",
    "\n",
    "# I separate features and target variable again\n",
    "X = df.drop(\"Class\", axis=1)\n",
    "y = df[\"Class\"]\n",
    "\n",
    "X = X.apply(pd.to_numeric, errors=\"coerce\") # num conversion\n",
    "X = X.fillna(X.mean()) # Instead of NaN insert mean\n",
    "X = X.values\n",
    "\n",
    "# Encoding target variable\n",
    "y = LabelEncoder().fit_transform(y) \n",
    "\n",
    "X.shape, y.shape "
   ]
  },
  {
   "cell_type": "code",
   "execution_count": 5,
   "id": "f93b597c",
   "metadata": {},
   "outputs": [
    {
     "name": "stdout",
     "output_type": "stream",
     "text": [
      "\n",
      "Training set shape from scratch: (64, 19)\n",
      "Test set shape from scratch: (16, 19)\n"
     ]
    }
   ],
   "source": [
    "from sklearn.model_selection import train_test_split\n",
    "from sklearn.preprocessing import StandardScaler\n",
    "\n",
    "scaler = StandardScaler()\n",
    "X_scaled = scaler.fit_transform(X)\n",
    "\n",
    "X_train, X_test, y_train, y_test = train_test_split(\n",
    "    X, y, test_size=0.20, random_state=42, stratify=y\n",
    ")\n",
    "\n",
    "# set shape\n",
    "print(f\"\\nTraining set shape from scratch: {X_train.shape}\")\n",
    "print(f\"Test set shape from scratch: {X_test.shape}\")"
   ]
  },
  {
   "cell_type": "markdown",
   "id": "07be8710",
   "metadata": {},
   "source": [
    "## Implementation from scratch"
   ]
  },
  {
   "cell_type": "code",
   "execution_count": 7,
   "id": "e9a47b62",
   "metadata": {},
   "outputs": [
    {
     "name": "stdout",
     "output_type": "stream",
     "text": [
      "Sk-learn training set shape: (64, 19)\n",
      "Sk-learn test set shape: (16, 19)\n",
      "\n",
      "Accuracy from scratch: 0.8750\n",
      "Classification report from scratch:\n",
      "              precision    recall  f1-score   support\n",
      "\n",
      "           0       0.67      0.67      0.67         3\n",
      "           1       0.92      0.92      0.92        13\n",
      "\n",
      "    accuracy                           0.88        16\n",
      "   macro avg       0.79      0.79      0.79        16\n",
      "weighted avg       0.88      0.88      0.88        16\n",
      "\n",
      "\n",
      "Confusion matrix from scratch:\n",
      "[[ 2  1]\n",
      " [ 1 12]]\n"
     ]
    }
   ],
   "source": [
    "print(f\"Sk-learn training set shape: {X_train.shape}\")\n",
    "print(f\"Sk-learn test set shape: {X_test.shape}\")\n",
    "\n",
    "knn = KNN(1)\n",
    "knn.fit(X_train, y_train)\n",
    "predictions = knn.predict(X_test)\n",
    "\n",
    "acc = accuracy_score(y_test, predictions)\n",
    "print(f\"\\nAccuracy from scratch: {acc:.4f}\")\n",
    "\n",
    "# Classification report\n",
    "print(\"Classification report from scratch:\")\n",
    "print(classification_report(y_test, predictions))\n",
    "\n",
    "# Confusion matrix\n",
    "print(\"\\nConfusion matrix from scratch:\")\n",
    "print(confusion_matrix(y_test, predictions))\n"
   ]
  },
  {
   "cell_type": "markdown",
   "id": "fc5a8a21",
   "metadata": {},
   "source": [
    "## Graph correct and incorrect predictions"
   ]
  },
  {
   "cell_type": "code",
   "execution_count": 8,
   "id": "d8f97334",
   "metadata": {},
   "outputs": [
    {
     "data": {
      "image/png": "[encoded data removed]",
      "text/plain": [
       "<Figure size 800x600 with 2 Axes>"
      ]
     },
     "metadata": {},
     "output_type": "display_data"
    }
   ],
   "source": [
    "import matplotlib.pyplot as plt\n",
    "import numpy as np\n",
    "from sklearn.decomposition import PCA\n",
    "\n",
    "# Conversion to NumPy array\n",
    "predictions = np.array(predictions)\n",
    "y_test = np.array(y_test)\n",
    "\n",
    "# PCA: I applied it to all data\n",
    "pca = PCA(n_components=2)\n",
    "pca.fit(X_scaled)  # Fit on normalized data\n",
    "\n",
    "X_test_scaled = scaler.fit_transform(X_test)\n",
    "X_test_pca = pca.transform(X_test_scaled)\n",
    "\n",
    "# Correct and incorrect classifications\n",
    "correct = predictions == y_test\n",
    "\n",
    "plt.figure(figsize=(8, 6))\n",
    "\n",
    "# correct points\n",
    "plt.scatter(X_test_pca[correct, 0], X_test_pca[correct, 1],\n",
    "            c=predictions[correct], cmap='viridis',\n",
    "            edgecolor='green', marker='o', label='Correct', s=80)\n",
    "\n",
    "# incorrect points\n",
    "plt.scatter(X_test_pca[~correct, 0], X_test_pca[~correct, 1],\n",
    "            c=predictions[~correct], cmap='viridis',\n",
    "            edgecolor='red', marker='X', label='Incorrect', s=100)\n",
    "\n",
    "plt.title(\"KNN - Correct and incorrect classifications in PCA space\")\n",
    "plt.xlabel(\"PC1\")\n",
    "plt.ylabel(\"PC2\")\n",
    "plt.legend()\n",
    "plt.colorbar(label=\"Predicted class\")\n",
    "plt.grid(True)\n",
    "plt.show()\n"
   ]
  },
  {
   "cell_type": "markdown",
   "id": "41143a56",
   "metadata": {},
   "source": [
    "## I try a different value of k"
   ]
  },
  {
   "cell_type": "code",
   "execution_count": 9,
   "id": "d1269120",
   "metadata": {},
   "outputs": [
    {
     "name": "stdout",
     "output_type": "stream",
     "text": [
      "\n",
      "Accuracy from scratch: 0.8125\n",
      "Classification report from scratch:\n",
      "              precision    recall  f1-score   support\n",
      "\n",
      "           0       0.50      0.33      0.40         3\n",
      "           1       0.86      0.92      0.89        13\n",
      "\n",
      "    accuracy                           0.81        16\n",
      "   macro avg       0.68      0.63      0.64        16\n",
      "weighted avg       0.79      0.81      0.80        16\n",
      "\n",
      "\n",
      "# Classification report from scratch:\n",
      "[[ 1  2]\n",
      " [ 1 12]]\n"
     ]
    }
   ],
   "source": [
    "knn3 = KNN(3)\n",
    "knn3.fit(X_train, y_train)\n",
    "predictions3 = knn3.predict(X_test)\n",
    "\n",
    "acc = accuracy_score(y_test, predictions3)\n",
    "print(f\"\\nAccuracy from scratch: {acc:.4f}\")\n",
    "\n",
    "# Classification report\n",
    "print(\"Classification report from scratch:\")\n",
    "print(classification_report(y_test, predictions3))\n",
    "\n",
    "# Confusion matrix\n",
    "print(\"\\n# Classification report from scratch:\")\n",
    "print(confusion_matrix(y_test, predictions3))\n"
   ]
  },
  {
   "cell_type": "markdown",
   "id": "619f9305",
   "metadata": {},
   "source": [
    "The results obtained are worse because we have few examples available and a single wrong prediction in class 0 greatly decreases the precision, recall, and f1-score values in that class."
   ]
  },
  {
   "cell_type": "markdown",
   "id": "bd2f604d",
   "metadata": {},
   "source": [
    "## Sklearn implementation "
   ]
  },
  {
   "cell_type": "code",
   "execution_count": 10,
   "id": "fefd2b31",
   "metadata": {},
   "outputs": [
    {
     "name": "stdout",
     "output_type": "stream",
     "text": [
      "\n",
      "Sk-learn training set shape: (64, 19)\n",
      "Sk-learn test set shape: (16, 19)\n",
      "\n",
      "Accuracy sk-learn: 0.8750\n",
      "\n",
      "Classification report sk-learn:\n",
      "              precision    recall  f1-score   support\n",
      "\n",
      "           0       0.67      0.67      0.67         3\n",
      "           1       0.92      0.92      0.92        13\n",
      "\n",
      "    accuracy                           0.88        16\n",
      "   macro avg       0.79      0.79      0.79        16\n",
      "weighted avg       0.88      0.88      0.88        16\n",
      "\n",
      "\n",
      "Confusion matrix sk-learn:\n",
      "[[ 2  1]\n",
      " [ 1 12]]\n"
     ]
    }
   ],
   "source": [
    "print(f\"\\nSk-learn training set shape: {X_train.shape}\")\n",
    "print(f\"Sk-learn test set shape: {X_test.shape}\")\n",
    "\n",
    "knn = KNeighborsClassifier(n_neighbors=1)\n",
    "knn.fit(X_train, y_train)\n",
    "predictions_sk_learn = knn.predict(X_test)\n",
    "\n",
    "acc = accuracy_score(y_test, predictions_sk_learn)\n",
    "print(f\"\\nAccuracy sk-learn: {acc:.4f}\")\n",
    "\n",
    "print(\"\\nClassification report sk-learn:\")\n",
    "print(classification_report(y_test, predictions_sk_learn))\n",
    "\n",
    "print(\"\\nConfusion matrix sk-learn:\")\n",
    "print(confusion_matrix(y_test, predictions_sk_learn))"
   ]
  },
  {
   "cell_type": "markdown",
   "id": "d87dfd0d",
   "metadata": {},
   "source": [
    "With sklearn the best k is automatically chosen (probably 1 or 2). The results are identical to the from scratch implementation."
   ]
  }
 ],
 "metadata": {
  "kernelspec": {
   "display_name": "Python 3",
   "language": "python",
   "name": "python3"
  },
  "language_info": {
   "codemirror_mode": {
    "name": "ipython",
    "version": 3
   },
   "file_extension": ".py",
   "mimetype": "text/x-python",
   "name": "python",
   "nbconvert_exporter": "python",
   "pygments_lexer": "ipython3",
   "version": "3.11.9"
  }
 },
 "nbformat": 4,
 "nbformat_minor": 5
}
